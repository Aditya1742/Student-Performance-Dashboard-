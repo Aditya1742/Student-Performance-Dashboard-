{
 "cells": [
  {
   "cell_type": "code",
   "execution_count": 2,
   "id": "b6bd8d2c",
   "metadata": {},
   "outputs": [],
   "source": [
    "import pandas as pd\n",
    "import matplotlib.pyplot as plt\n",
    "import seaborn as sns "
   ]
  },
  {
   "cell_type": "code",
   "execution_count": 3,
   "id": "058a9e38",
   "metadata": {},
   "outputs": [
    {
     "data": {
      "text/html": [
       "<div>\n",
       "<style scoped>\n",
       "    .dataframe tbody tr th:only-of-type {\n",
       "        vertical-align: middle;\n",
       "    }\n",
       "\n",
       "    .dataframe tbody tr th {\n",
       "        vertical-align: top;\n",
       "    }\n",
       "\n",
       "    .dataframe thead th {\n",
       "        text-align: right;\n",
       "    }\n",
       "</style>\n",
       "<table border=\"1\" class=\"dataframe\">\n",
       "  <thead>\n",
       "    <tr style=\"text-align: right;\">\n",
       "      <th></th>\n",
       "      <th>StudentID</th>\n",
       "      <th>Name</th>\n",
       "      <th>Math score</th>\n",
       "      <th>Science score</th>\n",
       "      <th>English score</th>\n",
       "      <th>History score</th>\n",
       "      <th>Computer score</th>\n",
       "    </tr>\n",
       "  </thead>\n",
       "  <tbody>\n",
       "    <tr>\n",
       "      <th>0</th>\n",
       "      <td>1</td>\n",
       "      <td>Gloria Ruiz</td>\n",
       "      <td>74</td>\n",
       "      <td>84</td>\n",
       "      <td>82</td>\n",
       "      <td>64</td>\n",
       "      <td>53</td>\n",
       "    </tr>\n",
       "    <tr>\n",
       "      <th>1</th>\n",
       "      <td>2</td>\n",
       "      <td>Elizabeth Richardson</td>\n",
       "      <td>49</td>\n",
       "      <td>65</td>\n",
       "      <td>56</td>\n",
       "      <td>88</td>\n",
       "      <td>68</td>\n",
       "    </tr>\n",
       "    <tr>\n",
       "      <th>2</th>\n",
       "      <td>3</td>\n",
       "      <td>Dr. Gabriel Perry</td>\n",
       "      <td>76</td>\n",
       "      <td>64</td>\n",
       "      <td>91</td>\n",
       "      <td>40</td>\n",
       "      <td>100</td>\n",
       "    </tr>\n",
       "    <tr>\n",
       "      <th>3</th>\n",
       "      <td>4</td>\n",
       "      <td>Jillian Thompson</td>\n",
       "      <td>82</td>\n",
       "      <td>94</td>\n",
       "      <td>72</td>\n",
       "      <td>45</td>\n",
       "      <td>63</td>\n",
       "    </tr>\n",
       "    <tr>\n",
       "      <th>4</th>\n",
       "      <td>5</td>\n",
       "      <td>James Rogers</td>\n",
       "      <td>94</td>\n",
       "      <td>60</td>\n",
       "      <td>64</td>\n",
       "      <td>83</td>\n",
       "      <td>93</td>\n",
       "    </tr>\n",
       "    <tr>\n",
       "      <th>...</th>\n",
       "      <td>...</td>\n",
       "      <td>...</td>\n",
       "      <td>...</td>\n",
       "      <td>...</td>\n",
       "      <td>...</td>\n",
       "      <td>...</td>\n",
       "      <td>...</td>\n",
       "    </tr>\n",
       "    <tr>\n",
       "      <th>845</th>\n",
       "      <td>846</td>\n",
       "      <td>Edward Hodge</td>\n",
       "      <td>66</td>\n",
       "      <td>84</td>\n",
       "      <td>84</td>\n",
       "      <td>49</td>\n",
       "      <td>82</td>\n",
       "    </tr>\n",
       "    <tr>\n",
       "      <th>846</th>\n",
       "      <td>847</td>\n",
       "      <td>Jessica Evans</td>\n",
       "      <td>78</td>\n",
       "      <td>92</td>\n",
       "      <td>46</td>\n",
       "      <td>91</td>\n",
       "      <td>53</td>\n",
       "    </tr>\n",
       "    <tr>\n",
       "      <th>847</th>\n",
       "      <td>848</td>\n",
       "      <td>Mary Bell</td>\n",
       "      <td>90</td>\n",
       "      <td>63</td>\n",
       "      <td>99</td>\n",
       "      <td>40</td>\n",
       "      <td>42</td>\n",
       "    </tr>\n",
       "    <tr>\n",
       "      <th>848</th>\n",
       "      <td>849</td>\n",
       "      <td>Kimberly Snyder</td>\n",
       "      <td>89</td>\n",
       "      <td>80</td>\n",
       "      <td>49</td>\n",
       "      <td>84</td>\n",
       "      <td>65</td>\n",
       "    </tr>\n",
       "    <tr>\n",
       "      <th>849</th>\n",
       "      <td>850</td>\n",
       "      <td>Nathan Malone</td>\n",
       "      <td>61</td>\n",
       "      <td>43</td>\n",
       "      <td>61</td>\n",
       "      <td>66</td>\n",
       "      <td>100</td>\n",
       "    </tr>\n",
       "  </tbody>\n",
       "</table>\n",
       "<p>850 rows × 7 columns</p>\n",
       "</div>"
      ],
      "text/plain": [
       "     StudentID                  Name  Math score  Science score  \\\n",
       "0            1           Gloria Ruiz          74             84   \n",
       "1            2  Elizabeth Richardson          49             65   \n",
       "2            3     Dr. Gabriel Perry          76             64   \n",
       "3            4      Jillian Thompson          82             94   \n",
       "4            5          James Rogers          94             60   \n",
       "..         ...                   ...         ...            ...   \n",
       "845        846          Edward Hodge          66             84   \n",
       "846        847         Jessica Evans          78             92   \n",
       "847        848             Mary Bell          90             63   \n",
       "848        849       Kimberly Snyder          89             80   \n",
       "849        850         Nathan Malone          61             43   \n",
       "\n",
       "     English score  History score  Computer score  \n",
       "0               82             64              53  \n",
       "1               56             88              68  \n",
       "2               91             40             100  \n",
       "3               72             45              63  \n",
       "4               64             83              93  \n",
       "..             ...            ...             ...  \n",
       "845             84             49              82  \n",
       "846             46             91              53  \n",
       "847             99             40              42  \n",
       "848             49             84              65  \n",
       "849             61             66             100  \n",
       "\n",
       "[850 rows x 7 columns]"
      ]
     },
     "execution_count": 3,
     "metadata": {},
     "output_type": "execute_result"
    }
   ],
   "source": [
    "# load the data \n",
    "df = pd.read_csv('StudentsPerformance_Large.csv')\n",
    "df"
   ]
  },
  {
   "cell_type": "markdown",
   "id": "0d7964aa",
   "metadata": {},
   "source": [
    "## Checking Missing values or Duplicate"
   ]
  },
  {
   "cell_type": "code",
   "execution_count": 4,
   "id": "ebf90986",
   "metadata": {},
   "outputs": [
    {
     "name": "stdout",
     "output_type": "stream",
     "text": [
      "StudentID         0\n",
      "Name              0\n",
      "Math score        0\n",
      "Science score     0\n",
      "English score     0\n",
      "History score     0\n",
      "Computer score    0\n",
      "dtype: int64\n",
      "StudentID          int64\n",
      "Name              object\n",
      "Math score         int64\n",
      "Science score      int64\n",
      "English score      int64\n",
      "History score      int64\n",
      "Computer score     int64\n",
      "dtype: object\n"
     ]
    }
   ],
   "source": [
    "print(df.isna().sum())\n",
    "print(df.dtypes)"
   ]
  },
  {
   "cell_type": "code",
   "execution_count": 5,
   "id": "2886f610",
   "metadata": {},
   "outputs": [
    {
     "data": {
      "text/plain": [
       "0"
      ]
     },
     "execution_count": 5,
     "metadata": {},
     "output_type": "execute_result"
    }
   ],
   "source": [
    "df.duplicated().sum()"
   ]
  },
  {
   "cell_type": "code",
   "execution_count": 6,
   "id": "a5c6d2be",
   "metadata": {},
   "outputs": [
    {
     "data": {
      "text/plain": [
       "850"
      ]
     },
     "execution_count": 6,
     "metadata": {},
     "output_type": "execute_result"
    }
   ],
   "source": [
    "len(df)"
   ]
  },
  {
   "cell_type": "markdown",
   "id": "d4460d31",
   "metadata": {},
   "source": [
    "## Rename columns for clarity"
   ]
  },
  {
   "cell_type": "code",
   "execution_count": 7,
   "id": "aad7bb12",
   "metadata": {},
   "outputs": [],
   "source": [
    "df.columns= [col.strip().lower().replace(' ','_') for col in df.columns]"
   ]
  },
  {
   "cell_type": "code",
   "execution_count": 8,
   "id": "05d49dd4",
   "metadata": {},
   "outputs": [
    {
     "data": {
      "text/html": [
       "<div>\n",
       "<style scoped>\n",
       "    .dataframe tbody tr th:only-of-type {\n",
       "        vertical-align: middle;\n",
       "    }\n",
       "\n",
       "    .dataframe tbody tr th {\n",
       "        vertical-align: top;\n",
       "    }\n",
       "\n",
       "    .dataframe thead th {\n",
       "        text-align: right;\n",
       "    }\n",
       "</style>\n",
       "<table border=\"1\" class=\"dataframe\">\n",
       "  <thead>\n",
       "    <tr style=\"text-align: right;\">\n",
       "      <th></th>\n",
       "      <th>studentid</th>\n",
       "      <th>name</th>\n",
       "      <th>math_score</th>\n",
       "      <th>science_score</th>\n",
       "      <th>english_score</th>\n",
       "      <th>history_score</th>\n",
       "      <th>computer_score</th>\n",
       "    </tr>\n",
       "  </thead>\n",
       "  <tbody>\n",
       "    <tr>\n",
       "      <th>0</th>\n",
       "      <td>1</td>\n",
       "      <td>Gloria Ruiz</td>\n",
       "      <td>74</td>\n",
       "      <td>84</td>\n",
       "      <td>82</td>\n",
       "      <td>64</td>\n",
       "      <td>53</td>\n",
       "    </tr>\n",
       "    <tr>\n",
       "      <th>1</th>\n",
       "      <td>2</td>\n",
       "      <td>Elizabeth Richardson</td>\n",
       "      <td>49</td>\n",
       "      <td>65</td>\n",
       "      <td>56</td>\n",
       "      <td>88</td>\n",
       "      <td>68</td>\n",
       "    </tr>\n",
       "    <tr>\n",
       "      <th>2</th>\n",
       "      <td>3</td>\n",
       "      <td>Dr. Gabriel Perry</td>\n",
       "      <td>76</td>\n",
       "      <td>64</td>\n",
       "      <td>91</td>\n",
       "      <td>40</td>\n",
       "      <td>100</td>\n",
       "    </tr>\n",
       "    <tr>\n",
       "      <th>3</th>\n",
       "      <td>4</td>\n",
       "      <td>Jillian Thompson</td>\n",
       "      <td>82</td>\n",
       "      <td>94</td>\n",
       "      <td>72</td>\n",
       "      <td>45</td>\n",
       "      <td>63</td>\n",
       "    </tr>\n",
       "    <tr>\n",
       "      <th>4</th>\n",
       "      <td>5</td>\n",
       "      <td>James Rogers</td>\n",
       "      <td>94</td>\n",
       "      <td>60</td>\n",
       "      <td>64</td>\n",
       "      <td>83</td>\n",
       "      <td>93</td>\n",
       "    </tr>\n",
       "    <tr>\n",
       "      <th>...</th>\n",
       "      <td>...</td>\n",
       "      <td>...</td>\n",
       "      <td>...</td>\n",
       "      <td>...</td>\n",
       "      <td>...</td>\n",
       "      <td>...</td>\n",
       "      <td>...</td>\n",
       "    </tr>\n",
       "    <tr>\n",
       "      <th>845</th>\n",
       "      <td>846</td>\n",
       "      <td>Edward Hodge</td>\n",
       "      <td>66</td>\n",
       "      <td>84</td>\n",
       "      <td>84</td>\n",
       "      <td>49</td>\n",
       "      <td>82</td>\n",
       "    </tr>\n",
       "    <tr>\n",
       "      <th>846</th>\n",
       "      <td>847</td>\n",
       "      <td>Jessica Evans</td>\n",
       "      <td>78</td>\n",
       "      <td>92</td>\n",
       "      <td>46</td>\n",
       "      <td>91</td>\n",
       "      <td>53</td>\n",
       "    </tr>\n",
       "    <tr>\n",
       "      <th>847</th>\n",
       "      <td>848</td>\n",
       "      <td>Mary Bell</td>\n",
       "      <td>90</td>\n",
       "      <td>63</td>\n",
       "      <td>99</td>\n",
       "      <td>40</td>\n",
       "      <td>42</td>\n",
       "    </tr>\n",
       "    <tr>\n",
       "      <th>848</th>\n",
       "      <td>849</td>\n",
       "      <td>Kimberly Snyder</td>\n",
       "      <td>89</td>\n",
       "      <td>80</td>\n",
       "      <td>49</td>\n",
       "      <td>84</td>\n",
       "      <td>65</td>\n",
       "    </tr>\n",
       "    <tr>\n",
       "      <th>849</th>\n",
       "      <td>850</td>\n",
       "      <td>Nathan Malone</td>\n",
       "      <td>61</td>\n",
       "      <td>43</td>\n",
       "      <td>61</td>\n",
       "      <td>66</td>\n",
       "      <td>100</td>\n",
       "    </tr>\n",
       "  </tbody>\n",
       "</table>\n",
       "<p>850 rows × 7 columns</p>\n",
       "</div>"
      ],
      "text/plain": [
       "     studentid                  name  math_score  science_score  \\\n",
       "0            1           Gloria Ruiz          74             84   \n",
       "1            2  Elizabeth Richardson          49             65   \n",
       "2            3     Dr. Gabriel Perry          76             64   \n",
       "3            4      Jillian Thompson          82             94   \n",
       "4            5          James Rogers          94             60   \n",
       "..         ...                   ...         ...            ...   \n",
       "845        846          Edward Hodge          66             84   \n",
       "846        847         Jessica Evans          78             92   \n",
       "847        848             Mary Bell          90             63   \n",
       "848        849       Kimberly Snyder          89             80   \n",
       "849        850         Nathan Malone          61             43   \n",
       "\n",
       "     english_score  history_score  computer_score  \n",
       "0               82             64              53  \n",
       "1               56             88              68  \n",
       "2               91             40             100  \n",
       "3               72             45              63  \n",
       "4               64             83              93  \n",
       "..             ...            ...             ...  \n",
       "845             84             49              82  \n",
       "846             46             91              53  \n",
       "847             99             40              42  \n",
       "848             49             84              65  \n",
       "849             61             66             100  \n",
       "\n",
       "[850 rows x 7 columns]"
      ]
     },
     "execution_count": 8,
     "metadata": {},
     "output_type": "execute_result"
    }
   ],
   "source": [
    "df"
   ]
  },
  {
   "cell_type": "markdown",
   "id": "93b95576",
   "metadata": {},
   "source": [
    "## Calculating Total Marks and Average "
   ]
  },
  {
   "cell_type": "code",
   "execution_count": 9,
   "id": "be926a50",
   "metadata": {},
   "outputs": [],
   "source": [
    "Subject_cols = ['math_score', 'science_score', 'english_score', 'history_score', 'computer_score']\n",
    "df['total_score'] = df[Subject_cols].sum(axis=1)\n",
    "df['average_score'] = df[Subject_cols].mean(axis=1)\n"
   ]
  },
  {
   "cell_type": "code",
   "execution_count": 10,
   "id": "585d6e57",
   "metadata": {},
   "outputs": [
    {
     "data": {
      "text/html": [
       "<div>\n",
       "<style scoped>\n",
       "    .dataframe tbody tr th:only-of-type {\n",
       "        vertical-align: middle;\n",
       "    }\n",
       "\n",
       "    .dataframe tbody tr th {\n",
       "        vertical-align: top;\n",
       "    }\n",
       "\n",
       "    .dataframe thead th {\n",
       "        text-align: right;\n",
       "    }\n",
       "</style>\n",
       "<table border=\"1\" class=\"dataframe\">\n",
       "  <thead>\n",
       "    <tr style=\"text-align: right;\">\n",
       "      <th></th>\n",
       "      <th>studentid</th>\n",
       "      <th>name</th>\n",
       "      <th>math_score</th>\n",
       "      <th>science_score</th>\n",
       "      <th>english_score</th>\n",
       "      <th>history_score</th>\n",
       "      <th>computer_score</th>\n",
       "      <th>total_score</th>\n",
       "      <th>average_score</th>\n",
       "    </tr>\n",
       "  </thead>\n",
       "  <tbody>\n",
       "    <tr>\n",
       "      <th>0</th>\n",
       "      <td>1</td>\n",
       "      <td>Gloria Ruiz</td>\n",
       "      <td>74</td>\n",
       "      <td>84</td>\n",
       "      <td>82</td>\n",
       "      <td>64</td>\n",
       "      <td>53</td>\n",
       "      <td>357</td>\n",
       "      <td>71.4</td>\n",
       "    </tr>\n",
       "    <tr>\n",
       "      <th>1</th>\n",
       "      <td>2</td>\n",
       "      <td>Elizabeth Richardson</td>\n",
       "      <td>49</td>\n",
       "      <td>65</td>\n",
       "      <td>56</td>\n",
       "      <td>88</td>\n",
       "      <td>68</td>\n",
       "      <td>326</td>\n",
       "      <td>65.2</td>\n",
       "    </tr>\n",
       "    <tr>\n",
       "      <th>2</th>\n",
       "      <td>3</td>\n",
       "      <td>Dr. Gabriel Perry</td>\n",
       "      <td>76</td>\n",
       "      <td>64</td>\n",
       "      <td>91</td>\n",
       "      <td>40</td>\n",
       "      <td>100</td>\n",
       "      <td>371</td>\n",
       "      <td>74.2</td>\n",
       "    </tr>\n",
       "    <tr>\n",
       "      <th>3</th>\n",
       "      <td>4</td>\n",
       "      <td>Jillian Thompson</td>\n",
       "      <td>82</td>\n",
       "      <td>94</td>\n",
       "      <td>72</td>\n",
       "      <td>45</td>\n",
       "      <td>63</td>\n",
       "      <td>356</td>\n",
       "      <td>71.2</td>\n",
       "    </tr>\n",
       "    <tr>\n",
       "      <th>4</th>\n",
       "      <td>5</td>\n",
       "      <td>James Rogers</td>\n",
       "      <td>94</td>\n",
       "      <td>60</td>\n",
       "      <td>64</td>\n",
       "      <td>83</td>\n",
       "      <td>93</td>\n",
       "      <td>394</td>\n",
       "      <td>78.8</td>\n",
       "    </tr>\n",
       "    <tr>\n",
       "      <th>...</th>\n",
       "      <td>...</td>\n",
       "      <td>...</td>\n",
       "      <td>...</td>\n",
       "      <td>...</td>\n",
       "      <td>...</td>\n",
       "      <td>...</td>\n",
       "      <td>...</td>\n",
       "      <td>...</td>\n",
       "      <td>...</td>\n",
       "    </tr>\n",
       "    <tr>\n",
       "      <th>845</th>\n",
       "      <td>846</td>\n",
       "      <td>Edward Hodge</td>\n",
       "      <td>66</td>\n",
       "      <td>84</td>\n",
       "      <td>84</td>\n",
       "      <td>49</td>\n",
       "      <td>82</td>\n",
       "      <td>365</td>\n",
       "      <td>73.0</td>\n",
       "    </tr>\n",
       "    <tr>\n",
       "      <th>846</th>\n",
       "      <td>847</td>\n",
       "      <td>Jessica Evans</td>\n",
       "      <td>78</td>\n",
       "      <td>92</td>\n",
       "      <td>46</td>\n",
       "      <td>91</td>\n",
       "      <td>53</td>\n",
       "      <td>360</td>\n",
       "      <td>72.0</td>\n",
       "    </tr>\n",
       "    <tr>\n",
       "      <th>847</th>\n",
       "      <td>848</td>\n",
       "      <td>Mary Bell</td>\n",
       "      <td>90</td>\n",
       "      <td>63</td>\n",
       "      <td>99</td>\n",
       "      <td>40</td>\n",
       "      <td>42</td>\n",
       "      <td>334</td>\n",
       "      <td>66.8</td>\n",
       "    </tr>\n",
       "    <tr>\n",
       "      <th>848</th>\n",
       "      <td>849</td>\n",
       "      <td>Kimberly Snyder</td>\n",
       "      <td>89</td>\n",
       "      <td>80</td>\n",
       "      <td>49</td>\n",
       "      <td>84</td>\n",
       "      <td>65</td>\n",
       "      <td>367</td>\n",
       "      <td>73.4</td>\n",
       "    </tr>\n",
       "    <tr>\n",
       "      <th>849</th>\n",
       "      <td>850</td>\n",
       "      <td>Nathan Malone</td>\n",
       "      <td>61</td>\n",
       "      <td>43</td>\n",
       "      <td>61</td>\n",
       "      <td>66</td>\n",
       "      <td>100</td>\n",
       "      <td>331</td>\n",
       "      <td>66.2</td>\n",
       "    </tr>\n",
       "  </tbody>\n",
       "</table>\n",
       "<p>850 rows × 9 columns</p>\n",
       "</div>"
      ],
      "text/plain": [
       "     studentid                  name  math_score  science_score  \\\n",
       "0            1           Gloria Ruiz          74             84   \n",
       "1            2  Elizabeth Richardson          49             65   \n",
       "2            3     Dr. Gabriel Perry          76             64   \n",
       "3            4      Jillian Thompson          82             94   \n",
       "4            5          James Rogers          94             60   \n",
       "..         ...                   ...         ...            ...   \n",
       "845        846          Edward Hodge          66             84   \n",
       "846        847         Jessica Evans          78             92   \n",
       "847        848             Mary Bell          90             63   \n",
       "848        849       Kimberly Snyder          89             80   \n",
       "849        850         Nathan Malone          61             43   \n",
       "\n",
       "     english_score  history_score  computer_score  total_score  average_score  \n",
       "0               82             64              53          357           71.4  \n",
       "1               56             88              68          326           65.2  \n",
       "2               91             40             100          371           74.2  \n",
       "3               72             45              63          356           71.2  \n",
       "4               64             83              93          394           78.8  \n",
       "..             ...            ...             ...          ...            ...  \n",
       "845             84             49              82          365           73.0  \n",
       "846             46             91              53          360           72.0  \n",
       "847             99             40              42          334           66.8  \n",
       "848             49             84              65          367           73.4  \n",
       "849             61             66             100          331           66.2  \n",
       "\n",
       "[850 rows x 9 columns]"
      ]
     },
     "execution_count": 10,
     "metadata": {},
     "output_type": "execute_result"
    }
   ],
   "source": [
    "df"
   ]
  },
  {
   "cell_type": "markdown",
   "id": "be8390cf",
   "metadata": {},
   "source": [
    "## Handling Outliers of Each Subject\n"
   ]
  },
  {
   "cell_type": "code",
   "execution_count": 11,
   "id": "2772b4d2",
   "metadata": {},
   "outputs": [
    {
     "data": {
      "text/plain": [
       "<Axes: xlabel='math_score'>"
      ]
     },
     "execution_count": 11,
     "metadata": {},
     "output_type": "execute_result"
    },
    {
     "data": {
      "image/png": "[encoded data removed]",
      "text/plain": [
       "<Figure size 640x480 with 1 Axes>"
      ]
     },
     "metadata": {},
     "output_type": "display_data"
    }
   ],
   "source": [
    "# Check for outliers\n",
    "sns.boxplot(data=df, x='math_score', orient='h')"
   ]
  },
  {
   "cell_type": "code",
   "execution_count": 12,
   "id": "75442cb0",
   "metadata": {},
   "outputs": [
    {
     "data": {
      "text/plain": [
       "<Axes: xlabel='science_score'>"
      ]
     },
     "execution_count": 12,
     "metadata": {},
     "output_type": "execute_result"
    },
    {
     "data": {
      "image/png": "[encoded data removed]",
      "text/plain": [
       "<Figure size 640x480 with 1 Axes>"
      ]
     },
     "metadata": {},
     "output_type": "display_data"
    }
   ],
   "source": [
    "sns.boxplot(data=df, x='science_score', orient='h')"
   ]
  },
  {
   "cell_type": "code",
   "execution_count": 13,
   "id": "aff41c9b",
   "metadata": {},
   "outputs": [
    {
     "data": {
      "text/plain": [
       "<Axes: xlabel='english_score'>"
      ]
     },
     "execution_count": 13,
     "metadata": {},
     "output_type": "execute_result"
    },
    {
     "data": {
      "image/png": "[encoded data removed]",
      "text/plain": [
       "<Figure size 640x480 with 1 Axes>"
      ]
     },
     "metadata": {},
     "output_type": "display_data"
    }
   ],
   "source": [
    "sns.boxplot(data=df, x='english_score', orient='h')"
   ]
  },
  {
   "cell_type": "code",
   "execution_count": 14,
   "id": "79e7882e",
   "metadata": {},
   "outputs": [
    {
     "data": {
      "text/plain": [
       "<Axes: xlabel='history_score'>"
      ]
     },
     "execution_count": 14,
     "metadata": {},
     "output_type": "execute_result"
    },
    {
     "data": {
      "image/png": "[encoded data removed]",
      "text/plain": [
       "<Figure size 640x480 with 1 Axes>"
      ]
     },
     "metadata": {},
     "output_type": "display_data"
    }
   ],
   "source": [
    "sns.boxplot(data=df, x='history_score', orient='h')"
   ]
  },
  {
   "cell_type": "code",
   "execution_count": 15,
   "id": "bc3c0692",
   "metadata": {},
   "outputs": [
    {
     "data": {
      "text/plain": [
       "<Axes: xlabel='computer_score'>"
      ]
     },
     "execution_count": 15,
     "metadata": {},
     "output_type": "execute_result"
    },
    {
     "data": {
      "image/png": "[encoded data removed]",
      "text/plain": [
       "<Figure size 640x480 with 1 Axes>"
      ]
     },
     "metadata": {},
     "output_type": "display_data"
    }
   ],
   "source": [
    "sns.boxplot(data=df, x='computer_score', orient='h')"
   ]
  },
  {
   "cell_type": "markdown",
   "id": "4a79a593",
   "metadata": {},
   "source": [
    "## So we clearly see that there is no outlier present in each subject."
   ]
  },
  {
   "cell_type": "markdown",
   "id": "662b3ae2",
   "metadata": {},
   "source": [
    "## Grading Function"
   ]
  },
  {
   "cell_type": "code",
   "execution_count": 16,
   "id": "0998f5f3",
   "metadata": {},
   "outputs": [],
   "source": [
    "def grade(avg):\n",
    "    if avg>=90:\n",
    "        return 'A+'\n",
    "    elif avg>=80:\n",
    "        return 'A'\n",
    "    elif avg>=70:\n",
    "        return 'B+'\n",
    "    elif avg>=60:\n",
    "        return 'B'\n",
    "    elif avg>=50:\n",
    "        return 'C+'\n",
    "    elif avg>=40:\n",
    "        return 'C'\n",
    "    else:\n",
    "        return 'F'\n",
    "    \n",
    "df['Grade'] = df['average_score'].apply(grade)\n",
    "    \n",
    "        "
   ]
  },
  {
   "cell_type": "code",
   "execution_count": 17,
   "id": "372d136d",
   "metadata": {},
   "outputs": [
    {
     "data": {
      "text/html": [
       "<div>\n",
       "<style scoped>\n",
       "    .dataframe tbody tr th:only-of-type {\n",
       "        vertical-align: middle;\n",
       "    }\n",
       "\n",
       "    .dataframe tbody tr th {\n",
       "        vertical-align: top;\n",
       "    }\n",
       "\n",
       "    .dataframe thead th {\n",
       "        text-align: right;\n",
       "    }\n",
       "</style>\n",
       "<table border=\"1\" class=\"dataframe\">\n",
       "  <thead>\n",
       "    <tr style=\"text-align: right;\">\n",
       "      <th></th>\n",
       "      <th>studentid</th>\n",
       "      <th>name</th>\n",
       "      <th>math_score</th>\n",
       "      <th>science_score</th>\n",
       "      <th>english_score</th>\n",
       "      <th>history_score</th>\n",
       "      <th>computer_score</th>\n",
       "      <th>total_score</th>\n",
       "      <th>average_score</th>\n",
       "      <th>Grade</th>\n",
       "    </tr>\n",
       "  </thead>\n",
       "  <tbody>\n",
       "    <tr>\n",
       "      <th>0</th>\n",
       "      <td>1</td>\n",
       "      <td>Gloria Ruiz</td>\n",
       "      <td>74</td>\n",
       "      <td>84</td>\n",
       "      <td>82</td>\n",
       "      <td>64</td>\n",
       "      <td>53</td>\n",
       "      <td>357</td>\n",
       "      <td>71.4</td>\n",
       "      <td>B+</td>\n",
       "    </tr>\n",
       "    <tr>\n",
       "      <th>1</th>\n",
       "      <td>2</td>\n",
       "      <td>Elizabeth Richardson</td>\n",
       "      <td>49</td>\n",
       "      <td>65</td>\n",
       "      <td>56</td>\n",
       "      <td>88</td>\n",
       "      <td>68</td>\n",
       "      <td>326</td>\n",
       "      <td>65.2</td>\n",
       "      <td>B</td>\n",
       "    </tr>\n",
       "    <tr>\n",
       "      <th>2</th>\n",
       "      <td>3</td>\n",
       "      <td>Dr. Gabriel Perry</td>\n",
       "      <td>76</td>\n",
       "      <td>64</td>\n",
       "      <td>91</td>\n",
       "      <td>40</td>\n",
       "      <td>100</td>\n",
       "      <td>371</td>\n",
       "      <td>74.2</td>\n",
       "      <td>B+</td>\n",
       "    </tr>\n",
       "    <tr>\n",
       "      <th>3</th>\n",
       "      <td>4</td>\n",
       "      <td>Jillian Thompson</td>\n",
       "      <td>82</td>\n",
       "      <td>94</td>\n",
       "      <td>72</td>\n",
       "      <td>45</td>\n",
       "      <td>63</td>\n",
       "      <td>356</td>\n",
       "      <td>71.2</td>\n",
       "      <td>B+</td>\n",
       "    </tr>\n",
       "    <tr>\n",
       "      <th>4</th>\n",
       "      <td>5</td>\n",
       "      <td>James Rogers</td>\n",
       "      <td>94</td>\n",
       "      <td>60</td>\n",
       "      <td>64</td>\n",
       "      <td>83</td>\n",
       "      <td>93</td>\n",
       "      <td>394</td>\n",
       "      <td>78.8</td>\n",
       "      <td>B+</td>\n",
       "    </tr>\n",
       "    <tr>\n",
       "      <th>...</th>\n",
       "      <td>...</td>\n",
       "      <td>...</td>\n",
       "      <td>...</td>\n",
       "      <td>...</td>\n",
       "      <td>...</td>\n",
       "      <td>...</td>\n",
       "      <td>...</td>\n",
       "      <td>...</td>\n",
       "      <td>...</td>\n",
       "      <td>...</td>\n",
       "    </tr>\n",
       "    <tr>\n",
       "      <th>845</th>\n",
       "      <td>846</td>\n",
       "      <td>Edward Hodge</td>\n",
       "      <td>66</td>\n",
       "      <td>84</td>\n",
       "      <td>84</td>\n",
       "      <td>49</td>\n",
       "      <td>82</td>\n",
       "      <td>365</td>\n",
       "      <td>73.0</td>\n",
       "      <td>B+</td>\n",
       "    </tr>\n",
       "    <tr>\n",
       "      <th>846</th>\n",
       "      <td>847</td>\n",
       "      <td>Jessica Evans</td>\n",
       "      <td>78</td>\n",
       "      <td>92</td>\n",
       "      <td>46</td>\n",
       "      <td>91</td>\n",
       "      <td>53</td>\n",
       "      <td>360</td>\n",
       "      <td>72.0</td>\n",
       "      <td>B+</td>\n",
       "    </tr>\n",
       "    <tr>\n",
       "      <th>847</th>\n",
       "      <td>848</td>\n",
       "      <td>Mary Bell</td>\n",
       "      <td>90</td>\n",
       "      <td>63</td>\n",
       "      <td>99</td>\n",
       "      <td>40</td>\n",
       "      <td>42</td>\n",
       "      <td>334</td>\n",
       "      <td>66.8</td>\n",
       "      <td>B</td>\n",
       "    </tr>\n",
       "    <tr>\n",
       "      <th>848</th>\n",
       "      <td>849</td>\n",
       "      <td>Kimberly Snyder</td>\n",
       "      <td>89</td>\n",
       "      <td>80</td>\n",
       "      <td>49</td>\n",
       "      <td>84</td>\n",
       "      <td>65</td>\n",
       "      <td>367</td>\n",
       "      <td>73.4</td>\n",
       "      <td>B+</td>\n",
       "    </tr>\n",
       "    <tr>\n",
       "      <th>849</th>\n",
       "      <td>850</td>\n",
       "      <td>Nathan Malone</td>\n",
       "      <td>61</td>\n",
       "      <td>43</td>\n",
       "      <td>61</td>\n",
       "      <td>66</td>\n",
       "      <td>100</td>\n",
       "      <td>331</td>\n",
       "      <td>66.2</td>\n",
       "      <td>B</td>\n",
       "    </tr>\n",
       "  </tbody>\n",
       "</table>\n",
       "<p>850 rows × 10 columns</p>\n",
       "</div>"
      ],
      "text/plain": [
       "     studentid                  name  math_score  science_score  \\\n",
       "0            1           Gloria Ruiz          74             84   \n",
       "1            2  Elizabeth Richardson          49             65   \n",
       "2            3     Dr. Gabriel Perry          76             64   \n",
       "3            4      Jillian Thompson          82             94   \n",
       "4            5          James Rogers          94             60   \n",
       "..         ...                   ...         ...            ...   \n",
       "845        846          Edward Hodge          66             84   \n",
       "846        847         Jessica Evans          78             92   \n",
       "847        848             Mary Bell          90             63   \n",
       "848        849       Kimberly Snyder          89             80   \n",
       "849        850         Nathan Malone          61             43   \n",
       "\n",
       "     english_score  history_score  computer_score  total_score  average_score  \\\n",
       "0               82             64              53          357           71.4   \n",
       "1               56             88              68          326           65.2   \n",
       "2               91             40             100          371           74.2   \n",
       "3               72             45              63          356           71.2   \n",
       "4               64             83              93          394           78.8   \n",
       "..             ...            ...             ...          ...            ...   \n",
       "845             84             49              82          365           73.0   \n",
       "846             46             91              53          360           72.0   \n",
       "847             99             40              42          334           66.8   \n",
       "848             49             84              65          367           73.4   \n",
       "849             61             66             100          331           66.2   \n",
       "\n",
       "    Grade  \n",
       "0      B+  \n",
       "1       B  \n",
       "2      B+  \n",
       "3      B+  \n",
       "4      B+  \n",
       "..    ...  \n",
       "845    B+  \n",
       "846    B+  \n",
       "847     B  \n",
       "848    B+  \n",
       "849     B  \n",
       "\n",
       "[850 rows x 10 columns]"
      ]
     },
     "execution_count": 17,
     "metadata": {},
     "output_type": "execute_result"
    }
   ],
   "source": [
    "df"
   ]
  },
  {
   "cell_type": "markdown",
   "id": "6c22828a",
   "metadata": {},
   "source": [
    "## Top Performers"
   ]
  },
  {
   "cell_type": "code",
   "execution_count": 18,
   "id": "db4e0e77",
   "metadata": {},
   "outputs": [
    {
     "name": "stdout",
     "output_type": "stream",
     "text": [
      "                 name  total_score  average_score Grade\n",
      "467      Angela Jones          469           93.8    A+\n",
      "636     John Mann PhD          450           90.0    A+\n",
      "469  Robert Patterson          449           89.8     A\n",
      "797     Bryan Russell          444           88.8     A\n",
      "659   Matthew Garrett          443           88.6     A\n"
     ]
    }
   ],
   "source": [
    "top_5 = df.sort_values(by='total_score', ascending=False).head(5)\n",
    "print(top_5[['name', 'total_score', 'average_score', 'Grade']])\n"
   ]
  },
  {
   "cell_type": "markdown",
   "id": "590ee0f0",
   "metadata": {},
   "source": [
    "## Visualization \n"
   ]
  },
  {
   "cell_type": "markdown",
   "id": "48a02bdd",
   "metadata": {},
   "source": [
    "### Bar Plot: Subject-wise average "
   ]
  },
  {
   "cell_type": "code",
   "execution_count": 27,
   "id": "d711007a",
   "metadata": {},
   "outputs": [
    {
     "name": "stdout",
     "output_type": "stream",
     "text": [
      "math_score        70.840000\n",
      "science_score     70.661176\n",
      "english_score     69.122353\n",
      "history_score     69.080000\n",
      "computer_score    71.597647\n",
      "dtype: float64\n"
     ]
    }
   ],
   "source": [
    "# Only selecting subject columns temporarily for averaging\n",
    "subject_avg = df[['math_score', 'science_score', 'english_score', 'history_score', 'computer_score']].mean()\n",
    "\n",
    "print(subject_avg)\n"
   ]
  },
  {
   "cell_type": "code",
   "execution_count": 41,
   "id": "32bc6883",
   "metadata": {},
   "outputs": [
    {
     "data": {
      "image/png": "[encoded data removed]",
      "text/plain": [
       "<Figure size 800x600 with 1 Axes>"
      ]
     },
     "metadata": {},
     "output_type": "display_data"
    }
   ],
   "source": [
    "# Assuming subject_avg is a pandas Series\n",
    "plt.figure(figsize=(8, 6))\n",
    "plt.bar(subject_avg.index, subject_avg.values, color=['yellow','orange','green','brown', 'purple'], edgecolor='black')\n",
    "plt.title(\"Subject-wise Average Scores\")\n",
    "plt.xlabel(\"Subjects\")\n",
    "plt.ylabel(\"Average Score\")\n",
    "plt.tight_layout()\n",
    "plt.show()\n"
   ]
  },
  {
   "cell_type": "markdown",
   "id": "4ea45e1c",
   "metadata": {},
   "source": [
    "### Pie Chart: Grade distribution "
   ]
  },
  {
   "cell_type": "code",
   "execution_count": 37,
   "id": "ee42363c",
   "metadata": {},
   "outputs": [
    {
     "data": {
      "image/png": "[encoded data removed]",
      "text/plain": [
       "<Figure size 640x480 with 1 Axes>"
      ]
     },
     "metadata": {},
     "output_type": "display_data"
    }
   ],
   "source": [
    "# b. Pie chart: Grade Distribution\n",
    "grade_dist.plot.pie(autopct='%1.1f%%', colors=plt.cm.Pastel1.colors)\n",
    "plt.title('Final Grade Distribution')\n",
    "plt.ylabel('')\n",
    "plt.show()"
   ]
  },
  {
   "cell_type": "code",
   "execution_count": 44,
   "id": "870e6c43",
   "metadata": {},
   "outputs": [
    {
     "data": {
      "image/png": "[encoded data removed]",
      "text/plain": [
       "<Figure size 600x400 with 1 Axes>"
      ]
     },
     "metadata": {},
     "output_type": "display_data"
    }
   ],
   "source": [
    "# Grade distribution bar chart\n",
    "plt.figure(figsize=(6, 4))\n",
    "sns.countplot(x='Grade', data=df, palette='viridis')\n",
    "plt.title('Grade Distribution')\n",
    "plt.savefig('grade_distribution.png')\n",
    "plt.show()"
   ]
  },
  {
   "cell_type": "code",
   "execution_count": 38,
   "id": "d8c1f520",
   "metadata": {},
   "outputs": [
    {
     "data": {
      "text/html": [
       "<div>\n",
       "<style scoped>\n",
       "    .dataframe tbody tr th:only-of-type {\n",
       "        vertical-align: middle;\n",
       "    }\n",
       "\n",
       "    .dataframe tbody tr th {\n",
       "        vertical-align: top;\n",
       "    }\n",
       "\n",
       "    .dataframe thead th {\n",
       "        text-align: right;\n",
       "    }\n",
       "</style>\n",
       "<table border=\"1\" class=\"dataframe\">\n",
       "  <thead>\n",
       "    <tr style=\"text-align: right;\">\n",
       "      <th></th>\n",
       "      <th>studentid</th>\n",
       "      <th>name</th>\n",
       "      <th>math_score</th>\n",
       "      <th>science_score</th>\n",
       "      <th>english_score</th>\n",
       "      <th>history_score</th>\n",
       "      <th>computer_score</th>\n",
       "      <th>total_score</th>\n",
       "      <th>average_score</th>\n",
       "      <th>Grade</th>\n",
       "    </tr>\n",
       "  </thead>\n",
       "  <tbody>\n",
       "    <tr>\n",
       "      <th>0</th>\n",
       "      <td>1</td>\n",
       "      <td>Gloria Ruiz</td>\n",
       "      <td>74</td>\n",
       "      <td>84</td>\n",
       "      <td>82</td>\n",
       "      <td>64</td>\n",
       "      <td>53</td>\n",
       "      <td>357</td>\n",
       "      <td>71.4</td>\n",
       "      <td>B+</td>\n",
       "    </tr>\n",
       "    <tr>\n",
       "      <th>1</th>\n",
       "      <td>2</td>\n",
       "      <td>Elizabeth Richardson</td>\n",
       "      <td>49</td>\n",
       "      <td>65</td>\n",
       "      <td>56</td>\n",
       "      <td>88</td>\n",
       "      <td>68</td>\n",
       "      <td>326</td>\n",
       "      <td>65.2</td>\n",
       "      <td>B</td>\n",
       "    </tr>\n",
       "    <tr>\n",
       "      <th>2</th>\n",
       "      <td>3</td>\n",
       "      <td>Dr. Gabriel Perry</td>\n",
       "      <td>76</td>\n",
       "      <td>64</td>\n",
       "      <td>91</td>\n",
       "      <td>40</td>\n",
       "      <td>100</td>\n",
       "      <td>371</td>\n",
       "      <td>74.2</td>\n",
       "      <td>B+</td>\n",
       "    </tr>\n",
       "    <tr>\n",
       "      <th>3</th>\n",
       "      <td>4</td>\n",
       "      <td>Jillian Thompson</td>\n",
       "      <td>82</td>\n",
       "      <td>94</td>\n",
       "      <td>72</td>\n",
       "      <td>45</td>\n",
       "      <td>63</td>\n",
       "      <td>356</td>\n",
       "      <td>71.2</td>\n",
       "      <td>B+</td>\n",
       "    </tr>\n",
       "    <tr>\n",
       "      <th>4</th>\n",
       "      <td>5</td>\n",
       "      <td>James Rogers</td>\n",
       "      <td>94</td>\n",
       "      <td>60</td>\n",
       "      <td>64</td>\n",
       "      <td>83</td>\n",
       "      <td>93</td>\n",
       "      <td>394</td>\n",
       "      <td>78.8</td>\n",
       "      <td>B+</td>\n",
       "    </tr>\n",
       "    <tr>\n",
       "      <th>...</th>\n",
       "      <td>...</td>\n",
       "      <td>...</td>\n",
       "      <td>...</td>\n",
       "      <td>...</td>\n",
       "      <td>...</td>\n",
       "      <td>...</td>\n",
       "      <td>...</td>\n",
       "      <td>...</td>\n",
       "      <td>...</td>\n",
       "      <td>...</td>\n",
       "    </tr>\n",
       "    <tr>\n",
       "      <th>845</th>\n",
       "      <td>846</td>\n",
       "      <td>Edward Hodge</td>\n",
       "      <td>66</td>\n",
       "      <td>84</td>\n",
       "      <td>84</td>\n",
       "      <td>49</td>\n",
       "      <td>82</td>\n",
       "      <td>365</td>\n",
       "      <td>73.0</td>\n",
       "      <td>B+</td>\n",
       "    </tr>\n",
       "    <tr>\n",
       "      <th>846</th>\n",
       "      <td>847</td>\n",
       "      <td>Jessica Evans</td>\n",
       "      <td>78</td>\n",
       "      <td>92</td>\n",
       "      <td>46</td>\n",
       "      <td>91</td>\n",
       "      <td>53</td>\n",
       "      <td>360</td>\n",
       "      <td>72.0</td>\n",
       "      <td>B+</td>\n",
       "    </tr>\n",
       "    <tr>\n",
       "      <th>847</th>\n",
       "      <td>848</td>\n",
       "      <td>Mary Bell</td>\n",
       "      <td>90</td>\n",
       "      <td>63</td>\n",
       "      <td>99</td>\n",
       "      <td>40</td>\n",
       "      <td>42</td>\n",
       "      <td>334</td>\n",
       "      <td>66.8</td>\n",
       "      <td>B</td>\n",
       "    </tr>\n",
       "    <tr>\n",
       "      <th>848</th>\n",
       "      <td>849</td>\n",
       "      <td>Kimberly Snyder</td>\n",
       "      <td>89</td>\n",
       "      <td>80</td>\n",
       "      <td>49</td>\n",
       "      <td>84</td>\n",
       "      <td>65</td>\n",
       "      <td>367</td>\n",
       "      <td>73.4</td>\n",
       "      <td>B+</td>\n",
       "    </tr>\n",
       "    <tr>\n",
       "      <th>849</th>\n",
       "      <td>850</td>\n",
       "      <td>Nathan Malone</td>\n",
       "      <td>61</td>\n",
       "      <td>43</td>\n",
       "      <td>61</td>\n",
       "      <td>66</td>\n",
       "      <td>100</td>\n",
       "      <td>331</td>\n",
       "      <td>66.2</td>\n",
       "      <td>B</td>\n",
       "    </tr>\n",
       "  </tbody>\n",
       "</table>\n",
       "<p>850 rows × 10 columns</p>\n",
       "</div>"
      ],
      "text/plain": [
       "     studentid                  name  math_score  science_score  \\\n",
       "0            1           Gloria Ruiz          74             84   \n",
       "1            2  Elizabeth Richardson          49             65   \n",
       "2            3     Dr. Gabriel Perry          76             64   \n",
       "3            4      Jillian Thompson          82             94   \n",
       "4            5          James Rogers          94             60   \n",
       "..         ...                   ...         ...            ...   \n",
       "845        846          Edward Hodge          66             84   \n",
       "846        847         Jessica Evans          78             92   \n",
       "847        848             Mary Bell          90             63   \n",
       "848        849       Kimberly Snyder          89             80   \n",
       "849        850         Nathan Malone          61             43   \n",
       "\n",
       "     english_score  history_score  computer_score  total_score  average_score  \\\n",
       "0               82             64              53          357           71.4   \n",
       "1               56             88              68          326           65.2   \n",
       "2               91             40             100          371           74.2   \n",
       "3               72             45              63          356           71.2   \n",
       "4               64             83              93          394           78.8   \n",
       "..             ...            ...             ...          ...            ...   \n",
       "845             84             49              82          365           73.0   \n",
       "846             46             91              53          360           72.0   \n",
       "847             99             40              42          334           66.8   \n",
       "848             49             84              65          367           73.4   \n",
       "849             61             66             100          331           66.2   \n",
       "\n",
       "    Grade  \n",
       "0      B+  \n",
       "1       B  \n",
       "2      B+  \n",
       "3      B+  \n",
       "4      B+  \n",
       "..    ...  \n",
       "845    B+  \n",
       "846    B+  \n",
       "847     B  \n",
       "848    B+  \n",
       "849     B  \n",
       "\n",
       "[850 rows x 10 columns]"
      ]
     },
     "execution_count": 38,
     "metadata": {},
     "output_type": "execute_result"
    }
   ],
   "source": [
    "df"
   ]
  },
  {
   "cell_type": "code",
   "execution_count": 40,
   "id": "6b02f5ad",
   "metadata": {},
   "outputs": [],
   "source": [
    "df.to_csv('Project.csv', index=False)\n"
   ]
  }
 ],
 "metadata": {
  "kernelspec": {
   "display_name": "Python 3 (ipykernel)",
   "language": "python",
   "name": "python3"
  },
  "language_info": {
   "codemirror_mode": {
    "name": "ipython",
    "version": 3
   },
   "file_extension": ".py",
   "mimetype": "text/x-python",
   "name": "python",
   "nbconvert_exporter": "python",
   "pygments_lexer": "ipython3",
   "version": "3.11.5"
  }
 },
 "nbformat": 4,
 "nbformat_minor": 5
}
